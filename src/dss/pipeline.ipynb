{
 "cells": [
  {
   "cell_type": "markdown",
   "metadata": {},
   "source": [
    "# Segmentation\n",
    "## Character Prototypes"
   ]
  },
  {
   "cell_type": "code",
   "execution_count": 18,
   "metadata": {},
   "outputs": [],
   "source": [
    "import numpy as np\n",
    "import matplotlib.pyplot as plt\n",
    "import cv2 as cv\n",
    "import os\n",
    "\n",
    "DATA_DIR = \"../../data/dss/\"\n",
    "TRAIN_DATA_DIR = DATA_DIR + \"monkbrill/\""
   ]
  },
  {
   "cell_type": "code",
   "execution_count": 23,
   "metadata": {},
   "outputs": [],
   "source": [
    "letters = list(filter(lambda x: os.path.isdir(TRAIN_DATA_DIR + x), os.listdir(TRAIN_DATA_DIR)))\n",
    "n_letters = len(letters)\n",
    "\n",
    "\n",
    "for root, dirs, files in os.walk(TRAIN_DATA_DIR + letters[0] + \"/\"):\n",
    "  imgs = [cv.imread(root + file) for file in files]\n",
    "  "
   ]
  },
  {
   "cell_type": "code",
   "execution_count": 27,
   "metadata": {},
   "outputs": [
    {
     "name": "stdout",
     "output_type": "stream",
     "text": [
      "[45.93       42.18666667  3.        ]\n",
      "[9.16324724 6.22830813 0.        ]\n"
     ]
    }
   ],
   "source": [
    "lst = []\n",
    "\n",
    "for img in imgs:\n",
    "  lst.append(list(img.shape))\n",
    "  \n",
    "print(np.mean(lst, axis=0))\n",
    "print(np.std(lst, axis=0))"
   ]
  }
 ],
 "metadata": {
  "interpreter": {
   "hash": "e7370f93d1d0cde622a1f8e1c04877d8463912d04d973331ad4851f04de6915a"
  },
  "kernelspec": {
   "display_name": "Python 3.8.10 64-bit",
   "language": "python",
   "name": "python3"
  },
  "language_info": {
   "codemirror_mode": {
    "name": "ipython",
    "version": 3
   },
   "file_extension": ".py",
   "mimetype": "text/x-python",
   "name": "python",
   "nbconvert_exporter": "python",
   "pygments_lexer": "ipython3",
   "version": "3.8.10"
  },
  "orig_nbformat": 4
 },
 "nbformat": 4,
 "nbformat_minor": 2
}