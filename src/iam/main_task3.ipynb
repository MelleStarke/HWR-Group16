{
 "cells": [
  {
   "cell_type": "code",
   "execution_count": 1,
   "metadata": {
    "execution": {
     "iopub.execute_input": "2022-06-03T06:42:26.164178Z",
     "iopub.status.busy": "2022-06-03T06:42:26.163592Z",
     "iopub.status.idle": "2022-06-03T06:42:26.183248Z",
     "shell.execute_reply": "2022-06-03T06:42:26.182552Z",
     "shell.execute_reply.started": "2022-06-03T06:42:26.164094Z"
    },
    "executionInfo": {
     "elapsed": 28838,
     "status": "ok",
     "timestamp": 1654171228963,
     "user": {
      "displayName": "I. Kamsteeg",
      "userId": "15945431086150300738"
     },
     "user_tz": -120
    },
    "id": "z7pED5fNCjtx",
    "outputId": "91b4aae2-70f9-42b1-aa78-7c657cd40c9f",
    "trusted": true
   },
   "outputs": [],
   "source": [
    "###\n",
    "# Handwriting Recognition Project - Task 3\n",
    "# Group 16\n",
    "# 03-06-2022\n",
    "#\n",
    "# This code was largely based on the example presented in https://github.com/NielsRogge/Transformers-Tutorials/blob/master/TrOCR/Fine_tune_TrOCR_on_IAM_Handwriting_Database_using_native_PyTorch.ipynb\n",
    "###"
   ]
  },
  {
   "cell_type": "code",
   "execution_count": 2,
   "metadata": {
    "collapsed": false,
    "pycharm": {
     "name": "#%%\n"
    }
   },
   "outputs": [
    {
     "name": "stderr",
     "output_type": "stream",
     "text": [
      "WARNING: You are using pip version 21.1.2; however, version 22.1.2 is available.\n",
      "You should consider upgrading via the 'D:\\Documenten\\Universiteit_master\\HR\\task_3\\venv\\Scripts\\python.exe -m pip install --upgrade pip' command.\n"
     ]
    }
   ],
   "source": [
    "# Install the Hugging Face TROCR base model\n",
    "!pip install -q git+https://github.com/huggingface/transformers.git"
   ]
  },
  {
   "cell_type": "code",
   "execution_count": 3,
   "metadata": {
    "execution": {
     "iopub.execute_input": "2022-06-03T06:42:26.199388Z",
     "iopub.status.busy": "2022-06-03T06:42:26.198756Z",
     "iopub.status.idle": "2022-06-03T06:42:38.629086Z",
     "shell.execute_reply": "2022-06-03T06:42:38.628088Z",
     "shell.execute_reply.started": "2022-06-03T06:42:26.199348Z"
    },
    "executionInfo": {
     "elapsed": 7571,
     "status": "ok",
     "timestamp": 1654171236951,
     "user": {
      "displayName": "I. Kamsteeg",
      "userId": "15945431086150300738"
     },
     "user_tz": -120
    },
    "id": "12Yr-IrlCjt8",
    "pycharm": {
     "name": "#%%\n"
    },
    "trusted": true
   },
   "outputs": [
    {
     "name": "stderr",
     "output_type": "stream",
     "text": [
      "WARNING: You are using pip version 21.1.2; however, version 22.1.2 is available.\n",
      "You should consider upgrading via the 'D:\\Documenten\\Universiteit_master\\HR\\task_3\\venv\\Scripts\\python.exe -m pip install --upgrade pip' command.\n"
     ]
    }
   ],
   "source": [
    "# Install jiwer\n",
    "!pip install -q datasets jiwer"
   ]
  },
  {
   "cell_type": "code",
   "execution_count": 4,
   "metadata": {
    "execution": {
     "iopub.execute_input": "2022-06-03T06:42:38.632263Z",
     "iopub.status.busy": "2022-06-03T06:42:38.631529Z",
     "iopub.status.idle": "2022-06-03T06:42:38.657377Z",
     "shell.execute_reply": "2022-06-03T06:42:38.656626Z",
     "shell.execute_reply.started": "2022-06-03T06:42:38.632222Z"
    },
    "executionInfo": {
     "elapsed": 27,
     "status": "ok",
     "timestamp": 1654171236952,
     "user": {
      "displayName": "I. Kamsteeg",
      "userId": "15945431086150300738"
     },
     "user_tz": -120
    },
    "id": "tAFikWHrCjt-",
    "outputId": "3fcb2cf1-5b62-4882-aa4b-6e4ce9283b8a",
    "pycharm": {
     "name": "#%%\n"
    },
    "trusted": true
   },
   "outputs": [],
   "source": [
    "# Import pandas to allow working with data frames\n",
    "import pandas as pd\n",
    "\n",
    "# Make a data frame of the .txt data\n",
    "TRAIN_DATA_DIR = \"data/\"\n",
    "raw_txt_df = pd.read_fwf(TRAIN_DATA_DIR + 'iam_lines_gt.txt', header=None)\n",
    "first_column = raw_txt_df.iloc[::2]\n",
    "second_column = raw_txt_df.iloc[1::2]\n",
    "txt_df = pd.concat([first_column.reset_index(drop=True), second_column.reset_index(drop=True)], axis=1)\n",
    "txt_df = pd.DataFrame(txt_df)\n",
    "txt_df = txt_df.set_axis(['file_name', 'text'], axis=1)"
   ]
  },
  {
   "cell_type": "code",
   "execution_count": 5,
   "metadata": {
    "execution": {
     "iopub.execute_input": "2022-06-03T06:42:38.659803Z",
     "iopub.status.busy": "2022-06-03T06:42:38.659411Z",
     "iopub.status.idle": "2022-06-03T06:42:39.172382Z",
     "shell.execute_reply": "2022-06-03T06:42:39.171617Z",
     "shell.execute_reply.started": "2022-06-03T06:42:38.659762Z"
    },
    "executionInfo": {
     "elapsed": 24,
     "status": "ok",
     "timestamp": 1654171236952,
     "user": {
      "displayName": "I. Kamsteeg",
      "userId": "15945431086150300738"
     },
     "user_tz": -120
    },
    "id": "mVa91Vpxz2XM",
    "outputId": "dc02fce5-a73a-460e-c0a3-207f33f7c2e5",
    "trusted": true
   },
   "outputs": [],
   "source": [
    "# Import a train_test_split function to allow for validation\n",
    "from sklearn.model_selection import train_test_split\n",
    "\n",
    "# Use a 80-20 train-validation split\n",
    "train_txt_df, val_txt_df = train_test_split(txt_df, test_size=0.2)\n",
    "train_txt_df.reset_index(drop=True, inplace=True)\n",
    "val_txt_df.reset_index(drop=True, inplace=True)"
   ]
  },
  {
   "cell_type": "code",
   "execution_count": 6,
   "metadata": {
    "execution": {
     "iopub.execute_input": "2022-06-03T06:42:39.175791Z",
     "iopub.status.busy": "2022-06-03T06:42:39.175493Z",
     "iopub.status.idle": "2022-06-03T06:42:39.950262Z",
     "shell.execute_reply": "2022-06-03T06:42:39.949448Z",
     "shell.execute_reply.started": "2022-06-03T06:42:39.175766Z"
    },
    "executionInfo": {
     "elapsed": 25,
     "status": "ok",
     "timestamp": 1654171236954,
     "user": {
      "displayName": "I. Kamsteeg",
      "userId": "15945431086150300738"
     },
     "user_tz": -120
    },
    "id": "HGJyblEXL_nv",
    "outputId": "f9cb9acd-eb57-4952-8652-037b399d8f68",
    "trusted": true
   },
   "outputs": [
    {
     "data": {
      "image/png": "[encoded data removed]",
      "text/plain": [
       "<Figure size 432x288 with 1 Axes>"
      ]
     },
     "metadata": {
      "needs_background": "light"
     },
     "output_type": "display_data"
    }
   ],
   "source": [
    "import os\n",
    "import cv2\n",
    "import matplotlib.pyplot as plt\n",
    "\n",
    "IMG_TRAIN_DATA_DIR = 'data/img/'\n",
    "\n",
    "cnt = 0\n",
    "\n",
    "# Iterate over the IAM data, generate binary images and show these\n",
    "# While the images are not used, for know, this provides an illustration\n",
    "for filename in os.listdir(IMG_TRAIN_DATA_DIR):\n",
    "    # Get an image\n",
    "    f = os.path.join(IMG_TRAIN_DATA_DIR, filename)\n",
    "    img = cv2.imread(f)\n",
    "    \n",
    "    # Present 10 images in total\n",
    "    cnt = cnt + 1\n",
    "    if cnt == 10:\n",
    "      break\n",
    "\n",
    "    # Threshold the image\n",
    "    gray_img = cv2.cvtColor(img, cv2.COLOR_BGR2GRAY)\n",
    "    (thresh, threshold_img) = cv2.threshold(gray_img, 200, 255, cv2.THRESH_BINARY)\n",
    "    window_name = \"img\"\n",
    "    \n",
    "    # Show the resulting binary image\n",
    "    plt.imshow(threshold_img, cmap='gray')\n",
    "    plt.imshow(gray_img, cmap='gray')"
   ]
  },
  {
   "cell_type": "code",
   "execution_count": 10,
   "metadata": {
    "execution": {
     "iopub.execute_input": "2022-06-03T06:42:39.952078Z",
     "iopub.status.busy": "2022-06-03T06:42:39.951714Z",
     "iopub.status.idle": "2022-06-03T06:43:11.701115Z",
     "shell.execute_reply": "2022-06-03T06:43:11.700168Z",
     "shell.execute_reply.started": "2022-06-03T06:42:39.952043Z"
    },
    "executionInfo": {
     "elapsed": 863,
     "status": "ok",
     "timestamp": 1654171237799,
     "user": {
      "displayName": "I. Kamsteeg",
      "userId": "15945431086150300738"
     },
     "user_tz": -120
    },
    "id": "Mjp-jT0PbXHe",
    "outputId": "5a00cc29-04bd-410e-93b6-e1a5519ea8ee",
    "trusted": true
   },
   "outputs": [
    {
     "name": "stderr",
     "output_type": "stream",
     "text": [
      "C:\\Users\\irisk\\AppData\\Local\\Temp\\ipykernel_32608\\2892363653.py:45: SettingWithCopyWarning: \n",
      "A value is trying to be set on a copy of a slice from a DataFrame.\n",
      "Try using .loc[row_indexer,col_indexer] = value instead\n",
      "\n",
      "See the caveats in the documentation: https://pandas.pydata.org/pandas-docs/stable/user_guide/indexing.html#returning-a-view-versus-a-copy\n",
      "  df_filename['file_name'] = name\n",
      "C:\\Users\\irisk\\AppData\\Local\\Temp\\ipykernel_32608\\2892363653.py:46: FutureWarning: The frame.append method is deprecated and will be removed from pandas in a future version. Use pandas.concat instead.\n",
      "  new_train_txt_df = new_train_txt_df.append([df_filename],ignore_index=True)\n",
      "C:\\Users\\irisk\\AppData\\Local\\Temp\\ipykernel_32608\\2892363653.py:49: FutureWarning: The frame.append method is deprecated and will be removed from pandas in a future version. Use pandas.concat instead.\n",
      "  new_val_txt_df = new_val_txt_df.append([df_filename],ignore_index=True)\n",
      "C:\\Users\\irisk\\AppData\\Local\\Temp\\ipykernel_32608\\2892363653.py:48: SettingWithCopyWarning: \n",
      "A value is trying to be set on a copy of a slice from a DataFrame.\n",
      "Try using .loc[row_indexer,col_indexer] = value instead\n",
      "\n",
      "See the caveats in the documentation: https://pandas.pydata.org/pandas-docs/stable/user_guide/indexing.html#returning-a-view-versus-a-copy\n",
      "  df_filename['file_name'] = name\n"
     ]
    }
   ],
   "source": [
    "from keras.preprocessing.image import ImageDataGenerator\n",
    "import numpy as np\n",
    "# from keras.preprocessing.image import img_to_array\n",
    "from matplotlib import pyplot\n",
    "\n",
    "# Create an Image Data Generator for augmentation\n",
    "# Rotate, zoom and shear the images\n",
    "augmentator = ImageDataGenerator(\n",
    "\trotation_range = 0.5,\n",
    "\tshear_range = 0.5,\n",
    "\tfill_mode = \"constant\",\n",
    "    cval = 255)\n",
    "\n",
    "# Create new data frames in which the augmented image names are included\n",
    "new_train_txt_df = train_txt_df.copy()\n",
    "new_val_txt_df = val_txt_df.copy()\n",
    "\n",
    "AUGMENT_DATA = False\n",
    "\n",
    "if AUGMENT_DATA:\n",
    "\n",
    "    cnt = 0\n",
    "\n",
    "    # Loop through all images\n",
    "    for filename in os.listdir(IMG_TRAIN_DATA_DIR):\n",
    "        cnt = cnt + 1\n",
    "        \n",
    "        # Get the image\n",
    "        f = os.path.join(IMG_TRAIN_DATA_DIR, filename)\n",
    "        img = cv2.imread(f)  \n",
    "        \n",
    "        # Reshape the image so that it can be used\n",
    "        x = np.array(img)\n",
    "        x = x.reshape((1, ) + x.shape)  \n",
    "        \n",
    "        # Create the folder in which the augmented images are saved\n",
    "        aug_image_folder = \"data/img_aug/\"\n",
    "        \n",
    "        i = 0\n",
    "        # Generate 5 augmented images per image\n",
    "        for batch in augmentator.flow(x, batch_size = 1):\n",
    "            # Save the augmented image\n",
    "            name = str(i) + \"_\" + filename\n",
    "            cv2.imwrite(f'{aug_image_folder}/{name}',batch[0,:,:,:])\n",
    "            \n",
    "            # Add the augmented image name to a txt dataframe\n",
    "            df_filename = new_train_txt_df[new_train_txt_df['file_name'] == filename]\n",
    "            df_filename['file_name'] = name\n",
    "            new_train_txt_df = new_train_txt_df.append([df_filename],ignore_index=True)\n",
    "            df_filename = new_val_txt_df[new_val_txt_df['file_name'] == filename]\n",
    "            df_filename['file_name'] = name\n",
    "            new_val_txt_df = new_val_txt_df.append([df_filename],ignore_index=True)\n",
    "            \n",
    "            i += 1\n",
    "            if i > 5: \n",
    "                # Remove the original image from the txt dataframes\n",
    "                new_train_txt_df = new_train_txt_df.drop(new_train_txt_df[new_train_txt_df['file_name'] == filename].index)\n",
    "                new_val_txt_df = new_val_txt_df.drop(new_val_txt_df[new_val_txt_df['file_name'] == filename].index)\n",
    "                break\n",
    "    new_train_txt_df.reset_index(drop=True, inplace=True)\n",
    "    new_val_txt_df.reset_index(drop=True, inplace=True)"
   ]
  },
  {
   "cell_type": "code",
   "execution_count": null,
   "metadata": {
    "execution": {
     "iopub.execute_input": "2022-06-03T06:43:11.703122Z",
     "iopub.status.busy": "2022-06-03T06:43:11.702367Z",
     "iopub.status.idle": "2022-06-03T06:43:13.405530Z",
     "shell.execute_reply": "2022-06-03T06:43:13.404630Z",
     "shell.execute_reply.started": "2022-06-03T06:43:11.703081Z"
    },
    "executionInfo": {
     "elapsed": 12,
     "status": "ok",
     "timestamp": 1654171237800,
     "user": {
      "displayName": "I. Kamsteeg",
      "userId": "15945431086150300738"
     },
     "user_tz": -120
    },
    "id": "1rCBW7k7CjuB",
    "pycharm": {
     "name": "#%%\n"
    },
    "trusted": true
   },
   "outputs": [],
   "source": [
    "import torch\n",
    "from torch.utils.data import Dataset\n",
    "from PIL import Image\n",
    "\n",
    "# Create a class for the IAM data (largely based on https://github.com/NielsRogge/Transformers-Tutorials/blob/master/TrOCR/Fine_tune_TrOCR_on_IAM_Handwriting_Database_using_native_PyTorch.ipynb)\n",
    "class IAMDataset(Dataset):\n",
    "    \n",
    "    # Initialise \n",
    "    def __init__(self, root_dir, df, processor, max_target_length=128):\n",
    "        self.root_dir = root_dir\n",
    "        self.df = df\n",
    "        self.processor = processor\n",
    "        self.max_target_length = max_target_length\n",
    "    \n",
    "    # Return the length\n",
    "    def __len__(self):\n",
    "        return len(self.df)\n",
    "    \n",
    "    # Get an item from the data\n",
    "    def __getitem__(self, idx):\n",
    "        # Get the file name and corresponding text\n",
    "        file_name = self.df['file_name'][idx]\n",
    "        text = self.df['text'][idx]\n",
    "\n",
    "        # Get the image\n",
    "        image = cv2.imread(self.root_dir + file_name)\n",
    "\n",
    "        # Create a binary image from the original image (to get rid of background noise)\n",
    "        (thresh, threshold_img) = cv2.threshold(image, 200, 255, cv2.THRESH_BINARY)\n",
    "        threshold_img = np.img_to_array(threshold_img)\n",
    "\n",
    "        # Get the pixel values\n",
    "        pixel_values = self.processor(threshold_img, return_tensors=\"pt\").pixel_values\n",
    "\n",
    "        # Get labels by encoding the text\n",
    "        labels = self.processor.tokenizer(text,\n",
    "                                          padding=\"max_length\",\n",
    "                                          max_length=self.max_target_length).input_ids\n",
    "        \n",
    "        # Ensure that the PAD tokens are ignored by the loss function\n",
    "        labels = [label if label != self.processor.tokenizer.pad_token_id else -100 for label in labels]\n",
    "        encoding = {\"pixel_values\": pixel_values.squeeze(), \"labels\": torch.tensor(labels)}\n",
    "        \n",
    "        return encoding"
   ]
  },
  {
   "cell_type": "code",
   "execution_count": null,
   "metadata": {
    "execution": {
     "iopub.execute_input": "2022-06-03T06:43:13.407352Z",
     "iopub.status.busy": "2022-06-03T06:43:13.406969Z",
     "iopub.status.idle": "2022-06-03T06:43:19.571904Z",
     "shell.execute_reply": "2022-06-03T06:43:19.571033Z",
     "shell.execute_reply.started": "2022-06-03T06:43:13.407314Z"
    },
    "executionInfo": {
     "elapsed": 5306,
     "status": "ok",
     "timestamp": 1654171243097,
     "user": {
      "displayName": "I. Kamsteeg",
      "userId": "15945431086150300738"
     },
     "user_tz": -120
    },
    "id": "nYWQrl_X21ab",
    "trusted": true
   },
   "outputs": [],
   "source": [
    "from transformers import TrOCRProcessor\n",
    "\n",
    "# Use the base TROCR model as a processor\n",
    "processor = TrOCRProcessor.from_pretrained(\"microsoft/trocr-base-handwritten\")\n",
    "\n",
    "# Create IAM datasets using the IAMDataset class\n",
    "train_dataset = IAMDataset(root_dir='data/img_aug/',\n",
    "                           df=new_train_txt_df,\n",
    "                           processor=processor)\n",
    "val_dataset = IAMDataset(root_dir='data/img_aug/',\n",
    "                           df=new_val_txt_df,\n",
    "                           processor=processor)\n"
   ]
  },
  {
   "cell_type": "code",
   "execution_count": null,
   "metadata": {
    "execution": {
     "iopub.execute_input": "2022-06-03T06:43:19.575857Z",
     "iopub.status.busy": "2022-06-03T06:43:19.574362Z",
     "iopub.status.idle": "2022-06-03T06:43:19.580777Z",
     "shell.execute_reply": "2022-06-03T06:43:19.579872Z",
     "shell.execute_reply.started": "2022-06-03T06:43:19.575812Z"
    },
    "executionInfo": {
     "elapsed": 5,
     "status": "ok",
     "timestamp": 1654171243098,
     "user": {
      "displayName": "I. Kamsteeg",
      "userId": "15945431086150300738"
     },
     "user_tz": -120
    },
    "id": "_UMCnePUCjuF",
    "pycharm": {
     "name": "#%%\n"
    },
    "trusted": true
   },
   "outputs": [],
   "source": [
    "from torch.utils.data import DataLoader\n",
    "\n",
    "# Create data loaders for the training and validation data sets\n",
    "train_dataloader = DataLoader(train_dataset, batch_size=4, shuffle=True)\n",
    "eval_dataloader = DataLoader(val_dataset, batch_size=4)"
   ]
  },
  {
   "cell_type": "code",
   "execution_count": null,
   "metadata": {
    "execution": {
     "iopub.execute_input": "2022-06-03T06:43:19.582411Z",
     "iopub.status.busy": "2022-06-03T06:43:19.582033Z",
     "iopub.status.idle": "2022-06-03T06:44:44.993140Z",
     "shell.execute_reply": "2022-06-03T06:44:44.992366Z",
     "shell.execute_reply.started": "2022-06-03T06:43:19.582376Z"
    },
    "executionInfo": {
     "elapsed": 11112,
     "status": "error",
     "timestamp": 1654171254205,
     "user": {
      "displayName": "I. Kamsteeg",
      "userId": "15945431086150300738"
     },
     "user_tz": -120
    },
    "id": "us-XVLdD3u34",
    "outputId": "e87dacae-17d2-48db-aeef-7739f9aacd4b",
    "trusted": true
   },
   "outputs": [],
   "source": [
    "from transformers import VisionEncoderDecoderModel\n",
    "import torch\n",
    "\n",
    "# Use a GPU if that is possible\n",
    "device = torch.device(\"cuda\" if torch.cuda.is_available() else \"cpu\")\n",
    "\n",
    "# Load the base TROCR model\n",
    "model = VisionEncoderDecoderModel.from_pretrained(\"microsoft/trocr-base-stage1\")\n",
    "model.to(device)"
   ]
  },
  {
   "cell_type": "code",
   "execution_count": null,
   "metadata": {
    "execution": {
     "iopub.execute_input": "2022-06-03T06:44:44.996160Z",
     "iopub.status.busy": "2022-06-03T06:44:44.994297Z",
     "iopub.status.idle": "2022-06-03T06:44:45.002468Z",
     "shell.execute_reply": "2022-06-03T06:44:45.001549Z",
     "shell.execute_reply.started": "2022-06-03T06:44:44.996118Z"
    },
    "executionInfo": {
     "elapsed": 7,
     "status": "aborted",
     "timestamp": 1654171254202,
     "user": {
      "displayName": "I. Kamsteeg",
      "userId": "15945431086150300738"
     },
     "user_tz": -120
    },
    "id": "QTGks1Uf4CeB",
    "trusted": true
   },
   "outputs": [],
   "source": [
    "# Set tokens used for creating the decoder_input_ids from the labels\n",
    "model.config.decoder_start_token_id = processor.tokenizer.cls_token_id\n",
    "model.config.pad_token_id = processor.tokenizer.pad_token_id\n",
    "\n",
    "# Set the vocab size\n",
    "model.config.vocab_size = model.config.decoder.vocab_size\n",
    "\n",
    "# Set beam search para\n",
    "model.config.eos_token_id = processor.tokenizer.sep_token_id\n",
    "model.config.max_length = 64\n",
    "model.config.early_stopping = True\n",
    "model.config.no_repeat_ngram_size = 3\n",
    "model.config.length_penalty = 2.0\n",
    "model.config.num_beams = 4"
   ]
  },
  {
   "cell_type": "code",
   "execution_count": null,
   "metadata": {
    "execution": {
     "iopub.execute_input": "2022-06-03T06:44:45.004441Z",
     "iopub.status.busy": "2022-06-03T06:44:45.003897Z",
     "iopub.status.idle": "2022-06-03T06:44:46.306265Z",
     "shell.execute_reply": "2022-06-03T06:44:46.305473Z",
     "shell.execute_reply.started": "2022-06-03T06:44:45.004399Z"
    },
    "executionInfo": {
     "elapsed": 8,
     "status": "aborted",
     "timestamp": 1654171254203,
     "user": {
      "displayName": "I. Kamsteeg",
      "userId": "15945431086150300738"
     },
     "user_tz": -120
    },
    "id": "B2181gYd4Gvg",
    "trusted": true
   },
   "outputs": [],
   "source": [
    "from datasets import load_metric\n",
    "\n",
    "# Use the character error rate for evaluation\n",
    "cer_metric = load_metric(\"cer\")"
   ]
  },
  {
   "cell_type": "code",
   "execution_count": null,
   "metadata": {
    "execution": {
     "iopub.execute_input": "2022-06-03T06:44:46.308372Z",
     "iopub.status.busy": "2022-06-03T06:44:46.307605Z",
     "iopub.status.idle": "2022-06-03T06:44:46.314661Z",
     "shell.execute_reply": "2022-06-03T06:44:46.313815Z",
     "shell.execute_reply.started": "2022-06-03T06:44:46.308335Z"
    },
    "executionInfo": {
     "elapsed": 9,
     "status": "aborted",
     "timestamp": 1654171254204,
     "user": {
      "displayName": "I. Kamsteeg",
      "userId": "15945431086150300738"
     },
     "user_tz": -120
    },
    "id": "YOT8qlAW4Jr5",
    "trusted": true
   },
   "outputs": [],
   "source": [
    "# Compute the character error rate based on text predictions and actual text\n",
    "def compute_cer(pred_ids, label_ids):\n",
    "    pred_str = processor.batch_decode(pred_ids, skip_special_tokens=True)\n",
    "    label_ids[label_ids == -100] = processor.tokenizer.pad_token_id\n",
    "    label_str = processor.batch_decode(label_ids, skip_special_tokens=True)\n",
    "\n",
    "    cer = cer_metric.compute(predictions=pred_str, references=label_str)\n",
    "\n",
    "    return cer"
   ]
  },
  {
   "cell_type": "code",
   "execution_count": null,
   "metadata": {
    "execution": {
     "iopub.execute_input": "2022-06-03T06:44:46.316859Z",
     "iopub.status.busy": "2022-06-03T06:44:46.316096Z",
     "iopub.status.idle": "2022-06-03T06:44:46.328816Z",
     "shell.execute_reply": "2022-06-03T06:44:46.327971Z",
     "shell.execute_reply.started": "2022-06-03T06:44:46.316822Z"
    },
    "executionInfo": {
     "elapsed": 9,
     "status": "aborted",
     "timestamp": 1654171254204,
     "user": {
      "displayName": "I. Kamsteeg",
      "userId": "15945431086150300738"
     },
     "user_tz": -120
    },
    "id": "_NWhhGfbQKEL",
    "trusted": true
   },
   "outputs": [],
   "source": [
    "import torch\n",
    "\n",
    "# Empty the GPU cache\n",
    "torch.cuda.empty_cache()"
   ]
  },
  {
   "cell_type": "code",
   "execution_count": null,
   "metadata": {
    "execution": {
     "iopub.execute_input": "2022-06-03T06:44:46.333740Z",
     "iopub.status.busy": "2022-06-03T06:44:46.331968Z",
     "iopub.status.idle": "2022-06-03T06:58:00.723921Z",
     "shell.execute_reply": "2022-06-03T06:58:00.722891Z",
     "shell.execute_reply.started": "2022-06-03T06:44:46.333703Z"
    },
    "executionInfo": {
     "elapsed": 6,
     "status": "error",
     "timestamp": 1654170631024,
     "user": {
      "displayName": "I. Kamsteeg",
      "userId": "15945431086150300738"
     },
     "user_tz": -120
    },
    "id": "2zSRTeU04L5F",
    "outputId": "92a8b933-9a6a-414b-aad7-7f5e779f7d59",
    "trusted": true
   },
   "outputs": [],
   "source": [
    "from transformers import AdamW\n",
    "from tqdm.notebook import tqdm\n",
    "\n",
    "# Use an AdamW optimizer\n",
    "optimizer = AdamW(model.parameters(), lr=5e-5)\n",
    "\n",
    "# Loop over the IAM dataset multiple times\n",
    "for epoch in range(10):\n",
    "   # Train the model\n",
    "   model.train()\n",
    "   train_loss = 0.0\n",
    "   # Go through the IAM data\n",
    "   for batch in tqdm(train_dataloader):\n",
    "      for k,v in batch.items():\n",
    "        batch[k] = v.to(device)\n",
    "\n",
    "      # Do the forward and backward pass\n",
    "      outputs = model(**batch)\n",
    "      loss = outputs.loss\n",
    "      loss.backward()\n",
    "      optimizer.step()\n",
    "      optimizer.zero_grad()\n",
    "        \n",
    "      # Update the loss\n",
    "      train_loss += loss.item()\n",
    "\n",
    "   print(f\"Loss after epoch {epoch}:\", train_loss/len(train_dataloader))\n",
    "    \n",
    "   # Evaluate the model with validation\n",
    "   model.eval()\n",
    "   valid_cer = 0.0\n",
    "   with torch.no_grad():\n",
    "     for batch in tqdm(eval_dataloader):\n",
    "       outputs = model.generate(batch[\"pixel_values\"].to(device))\n",
    "       # Compute the character error rate\n",
    "       cer = compute_cer(pred_ids=outputs, label_ids=batch[\"labels\"])\n",
    "       valid_cer += cer \n",
    "\n",
    "   print(\"Validation CER:\", valid_cer / len(eval_dataloader))\n",
    "\n",
    "# Save the model\n",
    "model.save_pretrained(\"./\")"
   ]
  },
  {
   "cell_type": "code",
   "execution_count": null,
   "metadata": {
    "execution": {
     "iopub.execute_input": "2022-06-03T07:07:01.283743Z",
     "iopub.status.busy": "2022-06-03T07:07:01.283339Z",
     "iopub.status.idle": "2022-06-03T07:07:11.777291Z",
     "shell.execute_reply": "2022-06-03T07:07:11.776507Z",
     "shell.execute_reply.started": "2022-06-03T07:07:01.283709Z"
    },
    "trusted": true
   },
   "outputs": [],
   "source": [
    "import sys\n",
    "\n",
    "# Use the user input as the path to the test data\n",
    "test_path = sys.argv[1:]\n",
    "# UNCOMMENT the following and change the test path if that works better\n",
    "# test_path = \"../some_path/some_more_path/\"\n",
    "\n",
    "# Create a dataframe for the test data text (unlabeled)\n",
    "filenames = os.listdir(test_path)\n",
    "texts = [\"\"] * 5\n",
    "filenames_df = pd.DataFrame(filenames)\n",
    "texts_df = pd.DataFrame(texts)\n",
    "test_txt_df = pd.concat([filenames_df, texts_df], axis=1)\n",
    "test_txt_df = test_txt_df.set_axis(['file_name', 'text'], axis=1)\n",
    "\n",
    "# Load the trained model\n",
    "model_2 = VisionEncoderDecoderModel.from_pretrained(\"./\")\n",
    "model_2.to(device)\n",
    "\n",
    "# Use the IAMDataset class to save the test data\n",
    "test_dataset = IAMDataset(root_dir=test_path,\n",
    "                           df=test_txt_df,\n",
    "                           processor=processor)\n",
    "test_dataloader = DataLoader(test_dataset, batch_size=1)\n",
    "\n",
    "cnt = 0\n",
    "\n",
    "# Go through the test data and predict the handwritten text\n",
    "for batch in tqdm(test_dataloader):\n",
    "    \n",
    "    # Use the model to predict\n",
    "    pixel_values = batch[\"pixel_values\"].to(device)\n",
    "    outputs = model.generate(pixel_values)\n",
    "\n",
    "    # Decode the prediction\n",
    "    pred_str = processor.batch_decode(outputs, skip_special_tokens=True)\n",
    "    \n",
    "    # Save the predicted text\n",
    "    text_filename = test_txt_df.iloc[[cnt]]\n",
    "    text_filename = text_filename.iloc[0][\"file_name\"]\n",
    "    text_filename = text_filename.replace('.png', '.txt')\n",
    "    cnt = cnt + 1\n",
    "    with open(text_filename, 'w') as f:\n",
    "        f.write(pred_str[0])"
   ]
  }
 ],
 "metadata": {
  "kernelspec": {
   "display_name": "Python 3",
   "language": "python",
   "name": "python3"
  },
  "language_info": {
   "codemirror_mode": {
    "name": "ipython",
    "version": 3
   },
   "file_extension": ".py",
   "mimetype": "text/x-python",
   "name": "python",
   "nbconvert_exporter": "python",
   "pygments_lexer": "ipython3",
   "version": "3.7.12"
  }
 },
 "nbformat": 4,
 "nbformat_minor": 4
}
